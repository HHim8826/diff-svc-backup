{
 "cells": [
  {
   "cell_type": "code",
   "execution_count": null,
   "metadata": {},
   "outputs": [],
   "source": [
    "from utils.hparams import hparams\n",
    "from preprocessing.data_gen_utils import get_pitch_parselmouth,get_pitch_crepe\n",
    "import numpy as np\n",
    "import matplotlib.pyplot as plt\n",
    "import IPython.display as ipd\n",
    "import utils\n",
    "import librosa\n",
    "import torchcrepe\n",
    "from infer import *\n",
    "import logging\n",
    "from infer_tools.infer_tool import *\n",
    "\n",
    "logging.getLogger('numba').setLevel(logging.WARNING)\n",
    "\n",
    "# 工程文件夹名，训练时用的那个\n",
    "project_name = \"xxx\"\n",
    "model_path = f'./checkpoints/{project_name}/clean_model_ckpt_steps_180000.ckpt'\n",
    "config_path = f'./checkpoints/{project_name}/config.yaml'\n",
    "hubert_gpu=True\n",
    "svc_model = Svc(project_name,config_path,hubert_gpu, model_path)\n",
    "print('model loaded')"
   ]
  },
  {
   "cell_type": "code",
   "execution_count": null,
   "metadata": {},
   "outputs": [],
   "source": [
    "wav_fn='raw/test_input.wav'#支持多数音频格式，无需手动转为wav\n",
    "demoaudio, sr = librosa.load(wav_fn)\n",
    "key = 0  # 音高调整，支持正负（半音）\n",
    "# 加速倍数\n",
    "pndm_speedup = 20\n",
    "wav_gen='test_output.wav'#直接改后缀可以保存不同格式音频，如flac可无损压缩\n",
    "f0_tst, f0_pred, audio =  run_clip(raw_audio_path=wav_fn, svc_model=svc_model, key=key, acc=pndm_speedup, use_crepe=False,\n",
    "                                   project_name=project_name, format='wav',out_path=wav_gen)"
   ]
  },
  {
   "cell_type": "code",
   "execution_count": null,
   "metadata": {},
   "outputs": [],
   "source": [
    "ipd.display(ipd.Audio(demoaudio, rate=sr))\n",
    "ipd.display(ipd.Audio(audio, rate=hparams['audio_sample_rate'], normalize=False))"
   ]
  },
  {
   "cell_type": "code",
   "execution_count": null,
   "metadata": {},
   "outputs": [],
   "source": [
    "#f0_gen,_=get_pitch_crepe(*vocoder.wav2spec(wav_gen),hparams,threshold=0.05)\n",
    "%matplotlib inline\n",
    "f0_gen,_=get_pitch_parselmouth(*svc_model.vocoder.wav2spec(wav_gen),hparams)\n",
    "f0_tst[f0_tst==0]=np.nan#ground truth f0\n",
    "f0_pred[f0_pred==0]=np.nan#f0 pe predicted\n",
    "f0_gen[f0_gen==0]=np.nan#f0 generated\n",
    "fig=plt.figure(figsize=[15,5])\n",
    "plt.plot(np.arange(0,len(f0_tst)),f0_tst,color='black')\n",
    "plt.plot(np.arange(0,len(f0_pred)),f0_pred,color='orange')\n",
    "plt.plot(np.arange(0,len(f0_gen)),f0_gen,color='red')\n",
    "plt.axhline(librosa.note_to_hz('C4'),ls=\":\",c=\"blue\")\n",
    "plt.axhline(librosa.note_to_hz('G4'),ls=\":\",c=\"green\")\n",
    "plt.axhline(librosa.note_to_hz('C5'),ls=\":\",c=\"orange\")\n",
    "plt.axhline(librosa.note_to_hz('F#5'),ls=\":\",c=\"red\")\n",
    "#plt.axhline(librosa.note_to_hz('A#5'),ls=\":\",c=\"black\")\n",
    "plt.show()"
   ]
  },
  {
   "cell_type": "code",
   "execution_count": null,
   "metadata": {},
   "outputs": [],
   "source": []
  }
 ],
 "metadata": {
  "kernelspec": {
   "display_name": "Python 3 (ipykernel)",
   "language": "python",
   "name": "python3"
  },
  "language_info": {
   "codemirror_mode": {
    "name": "ipython",
    "version": 3
   },
   "file_extension": ".py",
   "mimetype": "text/x-python",
   "name": "python",
   "nbconvert_exporter": "python",
   "pygments_lexer": "ipython3",
   "version": "3.8.10"
  },
  "vscode": {
   "interpreter": {
    "hash": "5cf89e54348a1bdadbb0ca2d227dcc30cc7e2d47cc75a8605923523671b5b7c7"
   }
  }
 },
 "nbformat": 4,
 "nbformat_minor": 2
}
